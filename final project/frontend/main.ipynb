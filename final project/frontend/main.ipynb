{
 "cells": [
  {
   "cell_type": "code",
   "execution_count": null,
   "metadata": {},
   "outputs": [],
   "source": [
    "import sys\n",
    "from PySide2 import QtCore, QtGui, QtWidgets\n",
    "from PySide2.QtCore import (QCoreApplication, QPropertyAnimation, QDate, QDateTime, QMetaObject, QObject, QPoint, QRect, QSize, QTime, QUrl, Qt, QEvent)\n",
    "from PySide2.QtGui import (QBrush, QColor, QConicalGradient, QCursor, QFont, QFontDatabase, QIcon, QKeySequence, QLinearGradient, QPalette, QPainter, QPixmap, QRadialGradient)\n",
    "from PySide2.QtWidgets import *\n",
    "\n",
    "# GUI FILE\n",
    "from ui_TOMATOGUI import Ui_MainWindow\n",
    "\n",
    "# IMPORT FUNCTIONS\n",
    "from ui_functions import *\n",
    "\n",
    "class MainWindow(QMainWindow):\n",
    "    def __init__(self):\n",
    "        QMainWindow.__init__(self)\n",
    "        self.ui = Ui_MainWindow()\n",
    "        self.ui.setupUi(self)\n",
    "\n",
    "        # MOVE WINDOW\n",
    "        def moveWindow(event):\n",
    "            # RESTORE BEFORE MOVE\n",
    "            if UIFunctions.returnStatus() == 1:\n",
    "                UIFunctions.maximize_restore(self)\n",
    "\n",
    "            # IF LEFT CLICK MOVE WINDOW\n",
    "            if event.buttons() == Qt.LeftButton:\n",
    "                self.move(self.pos() + event.globalPos() - self.dragPos)\n",
    "                self.dragPos = event.globalPos()\n",
    "                event.accept()\n",
    "\n",
    "        # SET TITLE BAR\n",
    "        self.ui.title_bar.mouseMoveEvent = moveWindow\n",
    "\n",
    "        ## ==> SET UI DEFINITIONS\n",
    "        UIFunctions.uiDefinitions(self)\n",
    "\n",
    "\n",
    "        ## SHOW ==> MAIN WINDOW\n",
    "        ########################################################################\n",
    "        self.show()\n",
    "\n",
    "    ## APP EVENTS\n",
    "    ########################################################################\n",
    "    def mousePressEvent(self, event):\n",
    "        self.dragPos = event.globalPos()\n",
    "\n",
    "if __name__ == \"__main__\":\n",
    "    app = QApplication(sys.argv)\n",
    "    window = MainWindow()\n",
    "    if not QtWidgets.QApplication.instance():\n",
    "        app = QtWidgets.QApplication(sys.argv)\n",
    "    else:\n",
    "        app = QtWidgets.QApplication.instance()\n",
    "\n",
    "    sys.exit(app.exec_())\n",
    "    "
   ]
  },
  {
   "cell_type": "code",
   "execution_count": null,
   "metadata": {},
   "outputs": [],
   "source": []
  }
 ],
 "metadata": {
  "kernelspec": {
   "display_name": "Python 3",
   "language": "python",
   "name": "python3"
  },
  "language_info": {
   "codemirror_mode": {
    "name": "ipython",
    "version": 3
   },
   "file_extension": ".py",
   "mimetype": "text/x-python",
   "name": "python",
   "nbconvert_exporter": "python",
   "pygments_lexer": "ipython3",
   "version": "3.8.5"
  }
 },
 "nbformat": 4,
 "nbformat_minor": 4
}
